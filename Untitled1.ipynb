{
  "nbformat": 4,
  "nbformat_minor": 0,
  "metadata": {
    "colab": {
      "name": "Untitled1.ipynb",
      "provenance": [],
      "authorship_tag": "ABX9TyNzkUmyFkDVQ214BA+A6ORv",
      "include_colab_link": true
    },
    "kernelspec": {
      "name": "python3",
      "display_name": "Python 3"
    }
  },
  "cells": [
    {
      "cell_type": "markdown",
      "metadata": {
        "id": "view-in-github",
        "colab_type": "text"
      },
      "source": [
        "<a href=\"https://colab.research.google.com/github/ethica123/2week_homework/blob/master/Untitled1.ipynb\" target=\"_parent\"><img src=\"https://colab.research.google.com/assets/colab-badge.svg\" alt=\"Open In Colab\"/></a>"
      ]
    },
    {
      "cell_type": "markdown",
      "metadata": {
        "id": "ZPOXFLaGZrg5",
        "colab_type": "text"
      },
      "source": [
        "\n",
        "\n",
        "##인공지능_사관학교_1주차\n",
        "\n",
        "#언어_분야에서의 인공지능 활용\n",
        "\n",
        "네이버에서 만든 파파고의 사례\n",
        "\n",
        "언어의 규칙을 효과적으로 파악하는 번역 엔진 기술을 강화하기 위해 네이버 서비스가 보유하고 있는 대규모의 데이터로 지속적인 학습을 수행하고 있습니다. 풍부한 데이터를 기반으로 점점 더 빠르고 자연스러운 번역으로 성장하고 있는 Papago NMT를 이용해서 고객 서비스의 품질을 더욱 높혀갑니다.\n",
        "\n",
        "#음성_분야에서의 인공지능 활용\n",
        "아마존 사의 AI 알렉사\n",
        "\n",
        "알렉사가 입력된 언어를 제대로 이해하기 위해서는 스킬, 의도, 슬롯에 대한 정확한 분석이 선행돼야 한다. 때문에 알렉사의 의도 분류기는 입력된 데이터를 기반으로 학습이 가능하다. ‘인공 뉴럴 네트워크(Artificial Neural Network)’와 ‘딥 뉴럴 네트워크(Deep Neural Network)’를 사용할 수 있는 의도 분류기는 축적되는 데이터에 따라 뉴럴 네트워크의 변화하는 가중치를 감지하고, 이를 학습해 보다 정확하게 명령의 의도를 판단할 수 있게 된다.\n",
        "\n",
        "#이미지 분야에서의 인공지능 활용\n",
        "\n",
        "구글 이미지 번역\n",
        "\n",
        "구글이 채택한 새로운 알고리즘은 딥러닝의 또 다른 성공사례라고 할 수 있는데, 딥러닝은 최근 몇 년 동안 인공신경망(artificial neural network: 뇌신경의 연결을 모방한, 다층 전산단위)을 방대한 데이터와 결합함으로써 AI의 굵직굵직한 문제들을 해결하는 데 기여해 왔다. 가장 괄목할 만한 것은, 구글의 새로운 알고리즘이 이미지인식(참고 4)과 게임(참고 5) 분야에서 다른 접근방법들을 제압했다는 것이다. 이에 고무된 구글은 마침내 그것을 언어번역에 적용하여, 소위 「신경망을 기반으로 한 기계번역시스템(NMTS: Neural Machine Translation system)」을 탄생시켰다. \"투입에서 산출에 이르기까지, NMTS는 전적으로 하나의 신경망에 의해 수행된다\"라고 NMTS의 개발에 기여한 꿕 레(구글의 컴퓨터과학자)는 말했다.\n",
        "\n",
        "\n",
        "#자율주행분야에서의 인공지능 활용\n",
        "\n",
        "KT는 현재 위치를 최대 30cm 단위로 정확하게 파악할 수 있는 정밀 측위 기술을 개발하고 플랫폼 형태로 재공하여, 주행중인 차선까지 구분할 수 있어 더욱 세밀하게 차량 제어가 가능하다"
      ]
    }
  ]
}